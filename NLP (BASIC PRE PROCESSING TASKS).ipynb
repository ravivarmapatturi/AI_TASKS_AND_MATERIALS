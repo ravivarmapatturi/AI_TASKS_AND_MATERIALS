{
 "cells": [
  {
   "cell_type": "code",
   "execution_count": 1,
   "id": "93bce5e1",
   "metadata": {},
   "outputs": [
    {
     "name": "stderr",
     "output_type": "stream",
     "text": [
      "C:\\Users\\raviv\\anaconda3\\lib\\site-packages\\pandas\\core\\arrays\\masked.py:60: UserWarning: Pandas requires version '1.3.6' or newer of 'bottleneck' (version '1.3.5' currently installed).\n",
      "  from pandas.core import (\n"
     ]
    }
   ],
   "source": [
    "import nltk\n",
    "import pandas as pd\n"
   ]
  },
  {
   "cell_type": "code",
   "execution_count": 2,
   "id": "a0b25a87",
   "metadata": {},
   "outputs": [
    {
     "name": "stderr",
     "output_type": "stream",
     "text": [
      "[nltk_data] Downloading package punkt to\n",
      "[nltk_data]     C:\\Users\\raviv\\AppData\\Roaming\\nltk_data...\n",
      "[nltk_data]   Package punkt is already up-to-date!\n",
      "[nltk_data] Downloading package wordnet to\n",
      "[nltk_data]     C:\\Users\\raviv\\AppData\\Roaming\\nltk_data...\n",
      "[nltk_data]   Package wordnet is already up-to-date!\n",
      "[nltk_data] Downloading package stopwords to\n",
      "[nltk_data]     C:\\Users\\raviv\\AppData\\Roaming\\nltk_data...\n",
      "[nltk_data]   Package stopwords is already up-to-date!\n",
      "[nltk_data] Downloading package omw-1.4 to\n",
      "[nltk_data]     C:\\Users\\raviv\\AppData\\Roaming\\nltk_data...\n",
      "[nltk_data]   Package omw-1.4 is already up-to-date!\n"
     ]
    },
    {
     "data": {
      "text/plain": [
       "True"
      ]
     },
     "execution_count": 2,
     "metadata": {},
     "output_type": "execute_result"
    }
   ],
   "source": [
    "nltk.download(\"punkt\")\n",
    "nltk.download(\"wordnet\")\n",
    "nltk.download(\"stopwords\")\n",
    "nltk.download(\"omw-1.4\")"
   ]
  },
  {
   "cell_type": "code",
   "execution_count": 3,
   "id": "19f4df34",
   "metadata": {},
   "outputs": [],
   "source": [
    "doc1=\"Virat Kohli (Hindi pronunciation: [ʋɪˈɾɑːʈ ˈkoːɦli] ⓘ; born 5 November 1988) is an Indian international cricketer and the former captain of the Indian national cricket team. He is a right-handed batsman and an occasional medium-fast bowler. He currently represents Royal Challengers Bengaluru in the IPL and Delhi in domestic cricket. Kohli is widely regarded as one of the greatest batsmen of all time.[4] He holds the record as the highest run-scorer in T20I and IPL, ranks third in ODI, and stands as the fourth-highest in international cricket.[5] He also holds the record for scoring the most centuries in ODI cricket and stands second in the list of most international centuries scored. Kohli was a key member of the Indian team that won the 2011 Cricket World Cup, 2013 ICC Champions Trophy, and captained India to win the ICC Test mace three consecutive times in 2017, 2018, and 2019.[6]\"\n",
    "\n",
    "doc2=\"In 2013, Kohli was ranked number one in the ICC rankings for ODI batsmen. In 2015, he achieved the summit of T20I rankings.[7] In 2018, he was ranked top Test batsman, making him the only Indian cricketer to hold the number one spot in all three formats of the game. He is the first player to score 20,000 runs in a decade. In 2020, the International Cricket Council named him the male cricketer of the decade.[8]\"\n",
    "\n",
    "doc3=\"He has received many accolades for his performances in cricket. He won the ICC ODI Player of the Year award four times in 2012, 2017, 2018, and 2023. He also won the Sir Garfield Sobers Trophy, given to the ICC Cricketer of the Year, on two occasions, in 2017 and 2018 respectively. In 2018, he became the first player to win both ICC ODI and Test Player of the Year awards in the same year. Also, he was named the Wisden Leading Cricketer in the World for three consecutive years, from 2016 to 2018. At the national level, Kohli was honoured with the Arjuna Award in 2013, the Padma Shri in 2017, and India's highest sporting honour, the Khel Ratna award, in 2018.\"\n",
    "\n",
    "doc4=\"Organizations are already seeing material benefits from gen AI use, reporting both cost decreases and revenue jumps in the business units deploying the technology. The survey also provides insights into the kinds of risks presented by gen AI—most notably, inaccuracy—as well as the emerging practices of top performers to mitigate those challenges and capture value.\"\n",
    "\n",
    "doc5=\"Explore NVIDIA GeForce graphics cards for gaming, streaming, and content creation. Compare features and performance of RTX 40 series, RTX 30 series, RTX 20 series and GTX 16 series.\"\n",
    "\n",
    "corpus=[doc1,doc2,doc3,doc4,doc5]\n"
   ]
  },
  {
   "cell_type": "markdown",
   "id": "ead330c0",
   "metadata": {},
   "source": [
    "# Tokenization"
   ]
  },
  {
   "cell_type": "code",
   "execution_count": 4,
   "id": "7c756ed8",
   "metadata": {},
   "outputs": [
    {
     "name": "stdout",
     "output_type": "stream",
     "text": [
      "\n",
      "Tokenized Document\n",
      "{1} token ['Virat', 'Kohli', '(', 'Hindi', 'pronunciation', ':', '[', 'ʋɪˈɾɑːʈ', 'ˈkoːɦli', ']', 'ⓘ', ';', 'born', '5', 'November', '1988', ')', 'is', 'an', 'Indian', 'international', 'cricketer', 'and', 'the', 'former', 'captain', 'of', 'the', 'Indian', 'national', 'cricket', 'team', '.', 'He', 'is', 'a', 'right-handed', 'batsman', 'and', 'an', 'occasional', 'medium-fast', 'bowler', '.', 'He', 'currently', 'represents', 'Royal', 'Challengers', 'Bengaluru', 'in', 'the', 'IPL', 'and', 'Delhi', 'in', 'domestic', 'cricket', '.', 'Kohli', 'is', 'widely', 'regarded', 'as', 'one', 'of', 'the', 'greatest', 'batsmen', 'of', 'all', 'time', '.', '[', '4', ']', 'He', 'holds', 'the', 'record', 'as', 'the', 'highest', 'run-scorer', 'in', 'T20I', 'and', 'IPL', ',', 'ranks', 'third', 'in', 'ODI', ',', 'and', 'stands', 'as', 'the', 'fourth-highest', 'in', 'international', 'cricket', '.', '[', '5', ']', 'He', 'also', 'holds', 'the', 'record', 'for', 'scoring', 'the', 'most', 'centuries', 'in', 'ODI', 'cricket', 'and', 'stands', 'second', 'in', 'the', 'list', 'of', 'most', 'international', 'centuries', 'scored', '.', 'Kohli', 'was', 'a', 'key', 'member', 'of', 'the', 'Indian', 'team', 'that', 'won', 'the', '2011', 'Cricket', 'World', 'Cup', ',', '2013', 'ICC', 'Champions', 'Trophy', ',', 'and', 'captained', 'India', 'to', 'win', 'the', 'ICC', 'Test', 'mace', 'three', 'consecutive', 'times', 'in', '2017', ',', '2018', ',', 'and', '2019', '.', '[', '6', ']'] 176\n",
      "{2} token ['In', '2013', ',', 'Kohli', 'was', 'ranked', 'number', 'one', 'in', 'the', 'ICC', 'rankings', 'for', 'ODI', 'batsmen', '.', 'In', '2015', ',', 'he', 'achieved', 'the', 'summit', 'of', 'T20I', 'rankings', '.', '[', '7', ']', 'In', '2018', ',', 'he', 'was', 'ranked', 'top', 'Test', 'batsman', ',', 'making', 'him', 'the', 'only', 'Indian', 'cricketer', 'to', 'hold', 'the', 'number', 'one', 'spot', 'in', 'all', 'three', 'formats', 'of', 'the', 'game', '.', 'He', 'is', 'the', 'first', 'player', 'to', 'score', '20,000', 'runs', 'in', 'a', 'decade', '.', 'In', '2020', ',', 'the', 'International', 'Cricket', 'Council', 'named', 'him', 'the', 'male', 'cricketer', 'of', 'the', 'decade', '.', '[', '8', ']'] 92\n",
      "{3} token ['He', 'has', 'received', 'many', 'accolades', 'for', 'his', 'performances', 'in', 'cricket', '.', 'He', 'won', 'the', 'ICC', 'ODI', 'Player', 'of', 'the', 'Year', 'award', 'four', 'times', 'in', '2012', ',', '2017', ',', '2018', ',', 'and', '2023', '.', 'He', 'also', 'won', 'the', 'Sir', 'Garfield', 'Sobers', 'Trophy', ',', 'given', 'to', 'the', 'ICC', 'Cricketer', 'of', 'the', 'Year', ',', 'on', 'two', 'occasions', ',', 'in', '2017', 'and', '2018', 'respectively', '.', 'In', '2018', ',', 'he', 'became', 'the', 'first', 'player', 'to', 'win', 'both', 'ICC', 'ODI', 'and', 'Test', 'Player', 'of', 'the', 'Year', 'awards', 'in', 'the', 'same', 'year', '.', 'Also', ',', 'he', 'was', 'named', 'the', 'Wisden', 'Leading', 'Cricketer', 'in', 'the', 'World', 'for', 'three', 'consecutive', 'years', ',', 'from', '2016', 'to', '2018', '.', 'At', 'the', 'national', 'level', ',', 'Kohli', 'was', 'honoured', 'with', 'the', 'Arjuna', 'Award', 'in', '2013', ',', 'the', 'Padma', 'Shri', 'in', '2017', ',', 'and', 'India', \"'s\", 'highest', 'sporting', 'honour', ',', 'the', 'Khel', 'Ratna', 'award', ',', 'in', '2018', '.'] 144\n",
      "{4} token ['Organizations', 'are', 'already', 'seeing', 'material', 'benefits', 'from', 'gen', 'AI', 'use', ',', 'reporting', 'both', 'cost', 'decreases', 'and', 'revenue', 'jumps', 'in', 'the', 'business', 'units', 'deploying', 'the', 'technology', '.', 'The', 'survey', 'also', 'provides', 'insights', 'into', 'the', 'kinds', 'of', 'risks', 'presented', 'by', 'gen', 'AI—most', 'notably', ',', 'inaccuracy—as', 'well', 'as', 'the', 'emerging', 'practices', 'of', 'top', 'performers', 'to', 'mitigate', 'those', 'challenges', 'and', 'capture', 'value', '.'] 59\n",
      "{5} token ['Explore', 'NVIDIA', 'GeForce', 'graphics', 'cards', 'for', 'gaming', ',', 'streaming', ',', 'and', 'content', 'creation', '.', 'Compare', 'features', 'and', 'performance', 'of', 'RTX', '40', 'series', ',', 'RTX', '30', 'series', ',', 'RTX', '20', 'series', 'and', 'GTX', '16', 'series', '.'] 35\n"
     ]
    }
   ],
   "source": [
    "from nltk.tokenize import word_tokenize\n",
    "tokenized_docs=[]\n",
    "for doc in corpus:\n",
    "    tokens= word_tokenize(doc)\n",
    "    tokenized_docs.append(tokens)\n",
    "    \n",
    "    \n",
    "print(\"\\nTokenized Document\")\n",
    "for i,doc in enumerate(tokenized_docs):\n",
    "    print ({i+1} , \"token\",doc ,len(doc))\n",
    "\n",
    "\n",
    "\n",
    "\n"
   ]
  },
  {
   "cell_type": "markdown",
   "id": "649bdf84",
   "metadata": {},
   "source": [
    "## LOWERCASE"
   ]
  },
  {
   "cell_type": "code",
   "execution_count": 5,
   "id": "625f18f0",
   "metadata": {},
   "outputs": [
    {
     "name": "stdout",
     "output_type": "stream",
     "text": [
      "\n",
      "lowercased Document\n",
      "{1} token ['virat', 'kohli', '(', 'hindi', 'pronunciation', ':', '[', 'ʋɪˈɾɑːʈ', 'ˈkoːɦli', ']', 'ⓘ', ';', 'born', '5', 'november', '1988', ')', 'is', 'an', 'indian', 'international', 'cricketer', 'and', 'the', 'former', 'captain', 'of', 'the', 'indian', 'national', 'cricket', 'team', '.', 'he', 'is', 'a', 'right-handed', 'batsman', 'and', 'an', 'occasional', 'medium-fast', 'bowler', '.', 'he', 'currently', 'represents', 'royal', 'challengers', 'bengaluru', 'in', 'the', 'ipl', 'and', 'delhi', 'in', 'domestic', 'cricket', '.', 'kohli', 'is', 'widely', 'regarded', 'as', 'one', 'of', 'the', 'greatest', 'batsmen', 'of', 'all', 'time', '.', '[', '4', ']', 'he', 'holds', 'the', 'record', 'as', 'the', 'highest', 'run-scorer', 'in', 't20i', 'and', 'ipl', ',', 'ranks', 'third', 'in', 'odi', ',', 'and', 'stands', 'as', 'the', 'fourth-highest', 'in', 'international', 'cricket', '.', '[', '5', ']', 'he', 'also', 'holds', 'the', 'record', 'for', 'scoring', 'the', 'most', 'centuries', 'in', 'odi', 'cricket', 'and', 'stands', 'second', 'in', 'the', 'list', 'of', 'most', 'international', 'centuries', 'scored', '.', 'kohli', 'was', 'a', 'key', 'member', 'of', 'the', 'indian', 'team', 'that', 'won', 'the', '2011', 'cricket', 'world', 'cup', ',', '2013', 'icc', 'champions', 'trophy', ',', 'and', 'captained', 'india', 'to', 'win', 'the', 'icc', 'test', 'mace', 'three', 'consecutive', 'times', 'in', '2017', ',', '2018', ',', 'and', '2019', '.', '[', '6', ']'] 176\n",
      "{2} token ['in', '2013', ',', 'kohli', 'was', 'ranked', 'number', 'one', 'in', 'the', 'icc', 'rankings', 'for', 'odi', 'batsmen', '.', 'in', '2015', ',', 'he', 'achieved', 'the', 'summit', 'of', 't20i', 'rankings', '.', '[', '7', ']', 'in', '2018', ',', 'he', 'was', 'ranked', 'top', 'test', 'batsman', ',', 'making', 'him', 'the', 'only', 'indian', 'cricketer', 'to', 'hold', 'the', 'number', 'one', 'spot', 'in', 'all', 'three', 'formats', 'of', 'the', 'game', '.', 'he', 'is', 'the', 'first', 'player', 'to', 'score', '20,000', 'runs', 'in', 'a', 'decade', '.', 'in', '2020', ',', 'the', 'international', 'cricket', 'council', 'named', 'him', 'the', 'male', 'cricketer', 'of', 'the', 'decade', '.', '[', '8', ']'] 92\n",
      "{3} token ['he', 'has', 'received', 'many', 'accolades', 'for', 'his', 'performances', 'in', 'cricket', '.', 'he', 'won', 'the', 'icc', 'odi', 'player', 'of', 'the', 'year', 'award', 'four', 'times', 'in', '2012', ',', '2017', ',', '2018', ',', 'and', '2023', '.', 'he', 'also', 'won', 'the', 'sir', 'garfield', 'sobers', 'trophy', ',', 'given', 'to', 'the', 'icc', 'cricketer', 'of', 'the', 'year', ',', 'on', 'two', 'occasions', ',', 'in', '2017', 'and', '2018', 'respectively', '.', 'in', '2018', ',', 'he', 'became', 'the', 'first', 'player', 'to', 'win', 'both', 'icc', 'odi', 'and', 'test', 'player', 'of', 'the', 'year', 'awards', 'in', 'the', 'same', 'year', '.', 'also', ',', 'he', 'was', 'named', 'the', 'wisden', 'leading', 'cricketer', 'in', 'the', 'world', 'for', 'three', 'consecutive', 'years', ',', 'from', '2016', 'to', '2018', '.', 'at', 'the', 'national', 'level', ',', 'kohli', 'was', 'honoured', 'with', 'the', 'arjuna', 'award', 'in', '2013', ',', 'the', 'padma', 'shri', 'in', '2017', ',', 'and', 'india', \"'s\", 'highest', 'sporting', 'honour', ',', 'the', 'khel', 'ratna', 'award', ',', 'in', '2018', '.'] 144\n",
      "{4} token ['organizations', 'are', 'already', 'seeing', 'material', 'benefits', 'from', 'gen', 'ai', 'use', ',', 'reporting', 'both', 'cost', 'decreases', 'and', 'revenue', 'jumps', 'in', 'the', 'business', 'units', 'deploying', 'the', 'technology', '.', 'the', 'survey', 'also', 'provides', 'insights', 'into', 'the', 'kinds', 'of', 'risks', 'presented', 'by', 'gen', 'ai—most', 'notably', ',', 'inaccuracy—as', 'well', 'as', 'the', 'emerging', 'practices', 'of', 'top', 'performers', 'to', 'mitigate', 'those', 'challenges', 'and', 'capture', 'value', '.'] 59\n",
      "{5} token ['explore', 'nvidia', 'geforce', 'graphics', 'cards', 'for', 'gaming', ',', 'streaming', ',', 'and', 'content', 'creation', '.', 'compare', 'features', 'and', 'performance', 'of', 'rtx', '40', 'series', ',', 'rtx', '30', 'series', ',', 'rtx', '20', 'series', 'and', 'gtx', '16', 'series', '.'] 35\n"
     ]
    }
   ],
   "source": [
    "lowercased_docs=[]\n",
    "for tokens in tokenized_docs: \n",
    "    lowercased_tokens=[token.lower() for token in tokens]\n",
    "    lowercased_docs.append(lowercased_tokens)\n",
    "    \n",
    "    \n",
    "    \n",
    "print(\"\\nlowercased Document\")\n",
    "for i,doc in enumerate(lowercased_docs):\n",
    "    print ({i+1} , \"token\",doc ,len(doc))\n",
    "\n"
   ]
  },
  {
   "cell_type": "markdown",
   "id": "e6b612ae",
   "metadata": {},
   "source": [
    "## removing punctuations"
   ]
  },
  {
   "cell_type": "code",
   "execution_count": 8,
   "id": "70074fe6",
   "metadata": {},
   "outputs": [
    {
     "name": "stdout",
     "output_type": "stream",
     "text": [
      "\n",
      "lowercased Document\n",
      "{1} token ['virat', 'kohli', 'hindi', 'pronunciation', 'ʋɪˈɾɑːʈ', 'ˈkoːɦli', 'born', 'november', 'is', 'an', 'indian', 'international', 'cricketer', 'and', 'the', 'former', 'captain', 'of', 'the', 'indian', 'national', 'cricket', 'team', 'he', 'is', 'a', 'batsman', 'and', 'an', 'occasional', 'bowler', 'he', 'currently', 'represents', 'royal', 'challengers', 'bengaluru', 'in', 'the', 'ipl', 'and', 'delhi', 'in', 'domestic', 'cricket', 'kohli', 'is', 'widely', 'regarded', 'as', 'one', 'of', 'the', 'greatest', 'batsmen', 'of', 'all', 'time', 'he', 'holds', 'the', 'record', 'as', 'the', 'highest', 'in', 'and', 'ipl', 'ranks', 'third', 'in', 'odi', 'and', 'stands', 'as', 'the', 'in', 'international', 'cricket', 'he', 'also', 'holds', 'the', 'record', 'for', 'scoring', 'the', 'most', 'centuries', 'in', 'odi', 'cricket', 'and', 'stands', 'second', 'in', 'the', 'list', 'of', 'most', 'international', 'centuries', 'scored', 'kohli', 'was', 'a', 'key', 'member', 'of', 'the', 'indian', 'team', 'that', 'won', 'the', 'cricket', 'world', 'cup', 'icc', 'champions', 'trophy', 'and', 'captained', 'india', 'to', 'win', 'the', 'icc', 'test', 'mace', 'three', 'consecutive', 'times', 'in', 'and'] 135\n",
      "{2} token ['in', 'kohli', 'was', 'ranked', 'number', 'one', 'in', 'the', 'icc', 'rankings', 'for', 'odi', 'batsmen', 'in', 'he', 'achieved', 'the', 'summit', 'of', 'rankings', 'in', 'he', 'was', 'ranked', 'top', 'test', 'batsman', 'making', 'him', 'the', 'only', 'indian', 'cricketer', 'to', 'hold', 'the', 'number', 'one', 'spot', 'in', 'all', 'three', 'formats', 'of', 'the', 'game', 'he', 'is', 'the', 'first', 'player', 'to', 'score', 'runs', 'in', 'a', 'decade', 'in', 'the', 'international', 'cricket', 'council', 'named', 'him', 'the', 'male', 'cricketer', 'of', 'the', 'decade'] 70\n",
      "{3} token ['he', 'has', 'received', 'many', 'accolades', 'for', 'his', 'performances', 'in', 'cricket', 'he', 'won', 'the', 'icc', 'odi', 'player', 'of', 'the', 'year', 'award', 'four', 'times', 'in', 'and', 'he', 'also', 'won', 'the', 'sir', 'garfield', 'sobers', 'trophy', 'given', 'to', 'the', 'icc', 'cricketer', 'of', 'the', 'year', 'on', 'two', 'occasions', 'in', 'and', 'respectively', 'in', 'he', 'became', 'the', 'first', 'player', 'to', 'win', 'both', 'icc', 'odi', 'and', 'test', 'player', 'of', 'the', 'year', 'awards', 'in', 'the', 'same', 'year', 'also', 'he', 'was', 'named', 'the', 'wisden', 'leading', 'cricketer', 'in', 'the', 'world', 'for', 'three', 'consecutive', 'years', 'from', 'to', 'at', 'the', 'national', 'level', 'kohli', 'was', 'honoured', 'with', 'the', 'arjuna', 'award', 'in', 'the', 'padma', 'shri', 'in', 'and', 'india', 'highest', 'sporting', 'honour', 'the', 'khel', 'ratna', 'award', 'in'] 111\n",
      "{4} token ['organizations', 'are', 'already', 'seeing', 'material', 'benefits', 'from', 'gen', 'ai', 'use', 'reporting', 'both', 'cost', 'decreases', 'and', 'revenue', 'jumps', 'in', 'the', 'business', 'units', 'deploying', 'the', 'technology', 'the', 'survey', 'also', 'provides', 'insights', 'into', 'the', 'kinds', 'of', 'risks', 'presented', 'by', 'gen', 'notably', 'well', 'as', 'the', 'emerging', 'practices', 'of', 'top', 'performers', 'to', 'mitigate', 'those', 'challenges', 'and', 'capture', 'value'] 53\n",
      "{5} token ['explore', 'nvidia', 'geforce', 'graphics', 'cards', 'for', 'gaming', 'streaming', 'and', 'content', 'creation', 'compare', 'features', 'and', 'performance', 'of', 'rtx', 'series', 'rtx', 'series', 'rtx', 'series', 'and', 'gtx', 'series'] 25\n"
     ]
    }
   ],
   "source": [
    "##removing punctuations\n",
    "\n",
    "\n",
    "no_punctuations_docs=[]\n",
    "for tokens in lowercased_docs:\n",
    "    filtered_tokens=[token for token in tokens if token.isalpha()]\n",
    "    no_punctuations_docs.append(filtered_tokens)\n",
    "    \n",
    "print(\"\\nlowercased Document\")\n",
    "for i,doc in enumerate(no_punctuations_docs):\n",
    "    print ({i+1} , \"token\",doc ,len(doc))"
   ]
  },
  {
   "cell_type": "markdown",
   "id": "bdd03ed4",
   "metadata": {},
   "source": [
    "## stop words"
   ]
  },
  {
   "cell_type": "code",
   "execution_count": 9,
   "id": "23e3017a",
   "metadata": {},
   "outputs": [
    {
     "name": "stdout",
     "output_type": "stream",
     "text": [
      "\n",
      "stopwords Document\n",
      "{1} token ['virat', 'kohli', 'hindi', 'pronunciation', 'ʋɪˈɾɑːʈ', 'ˈkoːɦli', 'born', 'november', 'indian', 'international', 'cricketer', 'former', 'captain', 'indian', 'national', 'cricket', 'team', 'batsman', 'occasional', 'bowler', 'currently', 'represents', 'royal', 'challengers', 'bengaluru', 'ipl', 'delhi', 'domestic', 'cricket', 'kohli', 'widely', 'regarded', 'one', 'greatest', 'batsmen', 'time', 'holds', 'record', 'highest', 'ipl', 'ranks', 'third', 'odi', 'stands', 'international', 'cricket', 'also', 'holds', 'record', 'scoring', 'centuries', 'odi', 'cricket', 'stands', 'second', 'list', 'international', 'centuries', 'scored', 'kohli', 'key', 'member', 'indian', 'team', 'cricket', 'world', 'cup', 'icc', 'champions', 'trophy', 'captained', 'india', 'win', 'icc', 'test', 'mace', 'three', 'consecutive', 'times'] 79\n",
      "{2} token ['kohli', 'ranked', 'number', 'one', 'icc', 'rankings', 'odi', 'batsmen', 'achieved', 'summit', 'rankings', 'ranked', 'top', 'test', 'batsman', 'making', 'indian', 'cricketer', 'hold', 'number', 'one', 'spot', 'three', 'formats', 'game', 'first', 'player', 'score', 'runs', 'decade', 'international', 'cricket', 'council', 'named', 'male', 'cricketer', 'decade'] 37\n",
      "{3} token ['received', 'many', 'accolades', 'performances', 'cricket', 'icc', 'odi', 'player', 'year', 'award', 'four', 'times', 'also', 'sir', 'garfield', 'sobers', 'trophy', 'given', 'icc', 'cricketer', 'year', 'two', 'occasions', 'respectively', 'became', 'first', 'player', 'win', 'icc', 'odi', 'test', 'player', 'year', 'awards', 'year', 'also', 'named', 'wisden', 'leading', 'cricketer', 'world', 'three', 'consecutive', 'years', 'national', 'level', 'kohli', 'honoured', 'arjuna', 'award', 'padma', 'shri', 'india', 'highest', 'sporting', 'honour', 'khel', 'ratna', 'award'] 59\n",
      "{4} token ['organizations', 'already', 'seeing', 'material', 'benefits', 'gen', 'ai', 'use', 'reporting', 'cost', 'decreases', 'revenue', 'jumps', 'business', 'units', 'deploying', 'technology', 'survey', 'also', 'provides', 'insights', 'kinds', 'risks', 'presented', 'gen', 'notably', 'well', 'emerging', 'practices', 'top', 'performers', 'mitigate', 'challenges', 'capture', 'value'] 35\n",
      "{5} token ['explore', 'nvidia', 'geforce', 'graphics', 'cards', 'gaming', 'streaming', 'content', 'creation', 'compare', 'features', 'performance', 'rtx', 'series', 'rtx', 'series', 'rtx', 'series', 'gtx', 'series'] 20\n"
     ]
    }
   ],
   "source": [
    "from nltk.corpus import stopwords\n",
    "stopwords=set(stopwords.words('english'))\n",
    "\n",
    "no_stopwords_docs=[]\n",
    "for tokens in no_punctuations_docs:\n",
    "    filtered_tokens=[token for token in tokens if token not in stopwords]\n",
    "    no_stopwords_docs.append(filtered_tokens)\n",
    "    \n",
    "print(\"\\nstopwords Document\")\n",
    "for i,doc in enumerate(no_stopwords_docs):\n",
    "    print ({i+1} , \"token\",doc ,len(doc))"
   ]
  },
  {
   "cell_type": "markdown",
   "id": "e6e81590",
   "metadata": {},
   "source": [
    "## Stemming "
   ]
  },
  {
   "cell_type": "code",
   "execution_count": 10,
   "id": "1d796c8d",
   "metadata": {},
   "outputs": [],
   "source": [
    "##stemming   --- reducing to morphological base or root form \n",
    "## removes suffixes from words \n",
    "##does not consider the words context annd actual meaning "
   ]
  },
  {
   "cell_type": "code",
   "execution_count": 11,
   "id": "a9018f7c",
   "metadata": {},
   "outputs": [
    {
     "name": "stdout",
     "output_type": "stream",
     "text": [
      "{1} token ['virat', 'kohli', 'hindi', 'pronunci', 'ʋɪˈɾɑːʈ', 'ˈkoːɦli', 'born', 'novemb', 'indian', 'intern', 'cricket', 'former', 'captain', 'indian', 'nation', 'cricket', 'team', 'batsman', 'occasion', 'bowler', 'current', 'repres', 'royal', 'challeng', 'bengaluru', 'ipl', 'delhi', 'domest', 'cricket', 'kohli', 'wide', 'regard', 'one', 'greatest', 'batsmen', 'time', 'hold', 'record', 'highest', 'ipl', 'rank', 'third', 'odi', 'stand', 'intern', 'cricket', 'also', 'hold', 'record', 'score', 'centuri', 'odi', 'cricket', 'stand', 'second', 'list', 'intern', 'centuri', 'score', 'kohli', 'key', 'member', 'indian', 'team', 'cricket', 'world', 'cup', 'icc', 'champion', 'trophi', 'captain', 'india', 'win', 'icc', 'test', 'mace', 'three', 'consecut', 'time'] 79\n",
      "{2} token ['kohli', 'rank', 'number', 'one', 'icc', 'rank', 'odi', 'batsmen', 'achiev', 'summit', 'rank', 'rank', 'top', 'test', 'batsman', 'make', 'indian', 'cricket', 'hold', 'number', 'one', 'spot', 'three', 'format', 'game', 'first', 'player', 'score', 'run', 'decad', 'intern', 'cricket', 'council', 'name', 'male', 'cricket', 'decad'] 37\n",
      "{3} token ['receiv', 'mani', 'accolad', 'perform', 'cricket', 'icc', 'odi', 'player', 'year', 'award', 'four', 'time', 'also', 'sir', 'garfield', 'sober', 'trophi', 'given', 'icc', 'cricket', 'year', 'two', 'occas', 'respect', 'becam', 'first', 'player', 'win', 'icc', 'odi', 'test', 'player', 'year', 'award', 'year', 'also', 'name', 'wisden', 'lead', 'cricket', 'world', 'three', 'consecut', 'year', 'nation', 'level', 'kohli', 'honour', 'arjuna', 'award', 'padma', 'shri', 'india', 'highest', 'sport', 'honour', 'khel', 'ratna', 'award'] 59\n",
      "{4} token ['organ', 'alreadi', 'see', 'materi', 'benefit', 'gen', 'ai', 'use', 'report', 'cost', 'decreas', 'revenu', 'jump', 'busi', 'unit', 'deploy', 'technolog', 'survey', 'also', 'provid', 'insight', 'kind', 'risk', 'present', 'gen', 'notabl', 'well', 'emerg', 'practic', 'top', 'perform', 'mitig', 'challeng', 'captur', 'valu'] 35\n",
      "{5} token ['explor', 'nvidia', 'geforc', 'graphic', 'card', 'game', 'stream', 'content', 'creation', 'compar', 'featur', 'perform', 'rtx', 'seri', 'rtx', 'seri', 'rtx', 'seri', 'gtx', 'seri'] 20\n"
     ]
    }
   ],
   "source": [
    "from nltk.stem import PorterStemmer\n",
    "\n",
    "\n",
    "stemmer=PorterStemmer()\n",
    "stemmed_docs=[]\n",
    "for tokens in no_stopwords_docs:\n",
    "    stemmed_tokens=[stemmer.stem(token) for token in tokens]\n",
    "    stemmed_docs.append(stemmed_tokens)\n",
    "    \n",
    "    \n",
    "for i,doc in enumerate(stemmed_docs):\n",
    "    print ({i+1} , \"token\",doc ,len(doc))\n",
    "    "
   ]
  },
  {
   "cell_type": "markdown",
   "id": "e935c16f",
   "metadata": {},
   "source": [
    "## lemmatization "
   ]
  },
  {
   "cell_type": "code",
   "execution_count": null,
   "id": "0c301dcd",
   "metadata": {},
   "outputs": [],
   "source": [
    "##lemmatization \n",
    "#lemmatization consider words context and dictionary meaning \n",
    "#uses dictionary and morphological analyzer to identify lemma\n"
   ]
  },
  {
   "cell_type": "code",
   "execution_count": 12,
   "id": "e4e377cb",
   "metadata": {},
   "outputs": [
    {
     "name": "stdout",
     "output_type": "stream",
     "text": [
      "{1} token ['virat', 'kohli', 'hindi', 'pronunciation', 'ʋɪˈɾɑːʈ', 'ˈkoːɦli', 'born', 'november', 'indian', 'international', 'cricketer', 'former', 'captain', 'indian', 'national', 'cricket', 'team', 'batsman', 'occasional', 'bowler', 'currently', 'represents', 'royal', 'challenger', 'bengaluru', 'ipl', 'delhi', 'domestic', 'cricket', 'kohli', 'widely', 'regarded', 'one', 'greatest', 'batsman', 'time', 'hold', 'record', 'highest', 'ipl', 'rank', 'third', 'odi', 'stand', 'international', 'cricket', 'also', 'hold', 'record', 'scoring', 'century', 'odi', 'cricket', 'stand', 'second', 'list', 'international', 'century', 'scored', 'kohli', 'key', 'member', 'indian', 'team', 'cricket', 'world', 'cup', 'icc', 'champion', 'trophy', 'captained', 'india', 'win', 'icc', 'test', 'mace', 'three', 'consecutive', 'time'] 79\n",
      "{2} token ['kohli', 'ranked', 'number', 'one', 'icc', 'ranking', 'odi', 'batsman', 'achieved', 'summit', 'ranking', 'ranked', 'top', 'test', 'batsman', 'making', 'indian', 'cricketer', 'hold', 'number', 'one', 'spot', 'three', 'format', 'game', 'first', 'player', 'score', 'run', 'decade', 'international', 'cricket', 'council', 'named', 'male', 'cricketer', 'decade'] 37\n",
      "{3} token ['received', 'many', 'accolade', 'performance', 'cricket', 'icc', 'odi', 'player', 'year', 'award', 'four', 'time', 'also', 'sir', 'garfield', 'sobers', 'trophy', 'given', 'icc', 'cricketer', 'year', 'two', 'occasion', 'respectively', 'became', 'first', 'player', 'win', 'icc', 'odi', 'test', 'player', 'year', 'award', 'year', 'also', 'named', 'wisden', 'leading', 'cricketer', 'world', 'three', 'consecutive', 'year', 'national', 'level', 'kohli', 'honoured', 'arjuna', 'award', 'padma', 'shri', 'india', 'highest', 'sporting', 'honour', 'khel', 'ratna', 'award'] 59\n",
      "{4} token ['organization', 'already', 'seeing', 'material', 'benefit', 'gen', 'ai', 'use', 'reporting', 'cost', 'decrease', 'revenue', 'jump', 'business', 'unit', 'deploying', 'technology', 'survey', 'also', 'provides', 'insight', 'kind', 'risk', 'presented', 'gen', 'notably', 'well', 'emerging', 'practice', 'top', 'performer', 'mitigate', 'challenge', 'capture', 'value'] 35\n",
      "{5} token ['explore', 'nvidia', 'geforce', 'graphic', 'card', 'gaming', 'streaming', 'content', 'creation', 'compare', 'feature', 'performance', 'rtx', 'series', 'rtx', 'series', 'rtx', 'series', 'gtx', 'series'] 20\n"
     ]
    }
   ],
   "source": [
    "from nltk.stem import WordNetLemmatizer\n",
    "\n",
    "\n",
    "lemmatizer=WordNetLemmatizer()\n",
    "lemmatized_docs=[]\n",
    "for tokens in no_stopwords_docs:\n",
    "    lemma_tokens=[lemmatizer.lemmatize(token) for token in tokens]\n",
    "    lemmatized_docs.append(lemma_tokens)\n",
    "    \n",
    "    \n",
    "for i,doc in enumerate(lemmatized_docs):\n",
    "    print ({i+1} , \"token\",doc ,len(doc))\n",
    "    "
   ]
  },
  {
   "cell_type": "markdown",
   "id": "156e8d4b",
   "metadata": {},
   "source": [
    "## spacy lemmatization "
   ]
  },
  {
   "cell_type": "code",
   "execution_count": 14,
   "id": "cc94f31c",
   "metadata": {},
   "outputs": [
    {
     "name": "stdout",
     "output_type": "stream",
     "text": [
      "['virat', 'kohli', 'hindi', 'pronunciation', 'ʋɪˈɾɑːʈ', 'ˈkoːɦli', 'born', 'november', 'indian', 'international', 'cricketer', 'former', 'captain', 'indian', 'national', 'cricket', 'team', 'batsman', 'occasional', 'bowler', 'currently', 'represents', 'royal', 'challengers', 'bengaluru', 'ipl', 'delhi', 'domestic', 'cricket', 'kohli', 'widely', 'regarded', 'one', 'greatest', 'batsmen', 'time', 'holds', 'record', 'highest', 'ipl', 'ranks', 'third', 'odi', 'stands', 'international', 'cricket', 'also', 'holds', 'record', 'scoring', 'centuries', 'odi', 'cricket', 'stands', 'second', 'list', 'international', 'centuries', 'scored', 'kohli', 'key', 'member', 'indian', 'team', 'cricket', 'world', 'cup', 'icc', 'champions', 'trophy', 'captained', 'india', 'win', 'icc', 'test', 'mace', 'three', 'consecutive', 'times']\n",
      "['kohli', 'ranked', 'number', 'one', 'icc', 'rankings', 'odi', 'batsmen', 'achieved', 'summit', 'rankings', 'ranked', 'top', 'test', 'batsman', 'making', 'indian', 'cricketer', 'hold', 'number', 'one', 'spot', 'three', 'formats', 'game', 'first', 'player', 'score', 'runs', 'decade', 'international', 'cricket', 'council', 'named', 'male', 'cricketer', 'decade']\n",
      "['received', 'many', 'accolades', 'performances', 'cricket', 'icc', 'odi', 'player', 'year', 'award', 'four', 'times', 'also', 'sir', 'garfield', 'sobers', 'trophy', 'given', 'icc', 'cricketer', 'year', 'two', 'occasions', 'respectively', 'became', 'first', 'player', 'win', 'icc', 'odi', 'test', 'player', 'year', 'awards', 'year', 'also', 'named', 'wisden', 'leading', 'cricketer', 'world', 'three', 'consecutive', 'years', 'national', 'level', 'kohli', 'honoured', 'arjuna', 'award', 'padma', 'shri', 'india', 'highest', 'sporting', 'honour', 'khel', 'ratna', 'award']\n",
      "['organizations', 'already', 'seeing', 'material', 'benefits', 'gen', 'ai', 'use', 'reporting', 'cost', 'decreases', 'revenue', 'jumps', 'business', 'units', 'deploying', 'technology', 'survey', 'also', 'provides', 'insights', 'kinds', 'risks', 'presented', 'gen', 'notably', 'well', 'emerging', 'practices', 'top', 'performers', 'mitigate', 'challenges', 'capture', 'value']\n",
      "['explore', 'nvidia', 'geforce', 'graphics', 'cards', 'gaming', 'streaming', 'content', 'creation', 'compare', 'features', 'performance', 'rtx', 'series', 'rtx', 'series', 'rtx', 'series', 'gtx', 'series']\n",
      "{1} token ['virat', 'kohli', 'hindi', 'pronunciation', 'ʋɪˈɾɑːʈ', 'ˈkoːɦli', 'bear', 'november', 'indian', 'international', 'cricketer', 'former', 'captain', 'indian', 'national', 'cricket', 'team', 'batsman', 'occasional', 'bowler', 'currently', 'represent', 'royal', 'challenger', 'bengaluru', 'ipl', 'delhi', 'domestic', 'cricket', 'kohli', 'widely', 'regard', 'one', 'great', 'batsman', 'time', 'hold', 'record', 'high', 'ipl', 'rank', 'third', 'odi', 'stand', 'international', 'cricket', 'also', 'hold', 'record', 'scoring', 'century', 'odi', 'cricket', 'stand', 'second', 'list', 'international', 'century', 'score', 'kohli', 'key', 'member', 'indian', 'team', 'cricket', 'world', 'cup', 'icc', 'champion', 'trophy', 'captain', 'india', 'win', 'icc', 'test', 'mace', 'three', 'consecutive', 'time'] 79\n",
      "{2} token ['kohli', 'rank', 'number', 'one', 'icc', 'ranking', 'odi', 'batsman', 'achieve', 'summit', 'ranking', 'rank', 'top', 'test', 'batsman', 'make', 'indian', 'cricketer', 'hold', 'number', 'one', 'spot', 'three', 'format', 'game', 'first', 'player', 'score', 'run', 'decade', 'international', 'cricket', 'council', 'name', 'male', 'cricketer', 'decade'] 37\n",
      "{3} token ['receive', 'many', 'accolade', 'performance', 'cricket', 'icc', 'odi', 'player', 'year', 'award', 'four', 'time', 'also', 'sir', 'garfield', 'sober', 'trophy', 'give', 'icc', 'cricketer', 'year', 'two', 'occasion', 'respectively', 'become', 'first', 'player', 'win', 'icc', 'odi', 'test', 'player', 'year', 'award', 'year', 'also', 'name', 'wisden', 'lead', 'cricketer', 'world', 'three', 'consecutive', 'year', 'national', 'level', 'kohli', 'honour', 'arjuna', 'award', 'padma', 'shri', 'india', 'high', 'sporting', 'honour', 'khel', 'ratna', 'award'] 59\n",
      "{4} token ['organization', 'already', 'see', 'material', 'benefit', 'gen', 'ai', 'use', 'reporting', 'cost', 'decrease', 'revenue', 'jump', 'business', 'unit', 'deploy', 'technology', 'survey', 'also', 'provide', 'insight', 'kind', 'risk', 'present', 'gen', 'notably', 'well', 'emerge', 'practice', 'top', 'performer', 'mitigate', 'challenge', 'capture', 'value'] 35\n",
      "{5} token ['explore', 'nvidia', 'geforce', 'graphics', 'card', 'game', 'stream', 'content', 'creation', 'compare', 'feature', 'performance', 'rtx', 'series', 'rtx', 'series', 'rtx', 'series', 'gtx', 'series'] 20\n"
     ]
    }
   ],
   "source": [
    "import spacy\n",
    "\n",
    "nlp=spacy.load('en_core_web_sm')\n",
    "spacy_lemmatized_docs=[]\n",
    "\n",
    "for doc in no_stopwords_docs:\n",
    "    print(doc)\n",
    "    spacy_doc=nlp(\" \".join(doc))\n",
    "    spacy_lemma_tokens=[token.lemma_ for token in spacy_doc]\n",
    "    spacy_lemmatized_docs.append(spacy_lemma_tokens)\n",
    "    \n",
    "    \n",
    "for i,doc in enumerate(spacy_lemmatized_docs):\n",
    "    print ({i+1} , \"token\",doc ,len(doc))\n",
    "    \n",
    "    "
   ]
  },
  {
   "cell_type": "code",
   "execution_count": null,
   "id": "7531eb0e",
   "metadata": {},
   "outputs": [],
   "source": [
    "pip install spacy"
   ]
  },
  {
   "cell_type": "code",
   "execution_count": null,
   "id": "5f7011b8",
   "metadata": {},
   "outputs": [],
   "source": [
    "!python -m spacy download en_core_web_sm\n"
   ]
  },
  {
   "cell_type": "markdown",
   "id": "83c0769b",
   "metadata": {},
   "source": [
    "## vocabulary "
   ]
  },
  {
   "cell_type": "code",
   "execution_count": null,
   "id": "1d9043fd",
   "metadata": {},
   "outputs": [],
   "source": [
    "## vocabulary buildig \n",
    "\n",
    "## select and define the set of unique words NlP model will annalyse \n",
    "## tokens left after preprocessing steps : base for the model \n",
    "\n",
    "\n"
   ]
  },
  {
   "cell_type": "code",
   "execution_count": 15,
   "id": "4e7a5010",
   "metadata": {},
   "outputs": [
    {
     "name": "stdout",
     "output_type": "stream",
     "text": [
      "['accolade', 'achieve', 'ai', 'already', 'also', 'arjuna', 'award', 'batsman', 'bear', 'become', 'benefit', 'bengaluru', 'bowler', 'business', 'captain', 'capture', 'card', 'century', 'challenge', 'challenger', 'champion', 'compare', 'consecutive', 'content', 'cost', 'council', 'creation', 'cricket', 'cricketer', 'cup', 'currently', 'decade', 'decrease', 'delhi', 'deploy', 'domestic', 'emerge', 'explore', 'feature', 'first', 'format', 'former', 'four', 'game', 'garfield', 'geforce', 'gen', 'give', 'graphics', 'great', 'gtx', 'high', 'hindi', 'hold', 'honour', 'icc', 'india', 'indian', 'insight', 'international', 'ipl', 'jump', 'key', 'khel', 'kind', 'kohli', 'lead', 'level', 'list', 'mace', 'make', 'male', 'many', 'material', 'member', 'mitigate', 'name', 'national', 'notably', 'november', 'number', 'nvidia', 'occasion', 'occasional', 'odi', 'one', 'organization', 'padma', 'performance', 'performer', 'player', 'practice', 'present', 'pronunciation', 'provide', 'rank', 'ranking', 'ratna', 'receive', 'record', 'regard', 'reporting', 'represent', 'respectively', 'revenue', 'risk', 'royal', 'rtx', 'run', 'score', 'scoring', 'second', 'see', 'series', 'shri', 'sir', 'sober', 'sporting', 'spot', 'stand', 'stream', 'summit', 'survey', 'team', 'technology', 'test', 'third', 'three', 'time', 'top', 'trophy', 'two', 'unit', 'use', 'value', 'virat', 'well', 'widely', 'win', 'wisden', 'world', 'year', 'ʋɪˈɾɑːʈ', 'ˈkoːɦli'] 144\n"
     ]
    }
   ],
   "source": [
    "## vocabulary building \n",
    "\n",
    "\n",
    "vocabulary=set()\n",
    "for doc in spacy_lemmatized_docs:\n",
    "    for token in doc:\n",
    "        vocabulary.add(token)\n",
    "        \n",
    "        \n",
    "        \n",
    "vocabulary=sorted(list(vocabulary))\n",
    "\n",
    "\n",
    "print(vocabulary,len(vocabulary))\n",
    "\n",
    "\n"
   ]
  },
  {
   "cell_type": "markdown",
   "id": "817b08d1",
   "metadata": {},
   "source": [
    "## vectorization "
   ]
  },
  {
   "cell_type": "code",
   "execution_count": 16,
   "id": "84ad6c12",
   "metadata": {},
   "outputs": [],
   "source": [
    "from sklearn.feature_extraction.text import CountVectorizer\n",
    "\n",
    "# vectorization refers to process of converting words into numerical\n",
    "# representation called vectors\n",
    "\n",
    "# 1)one hot encoding\n",
    "# 2)count vectorizer\n",
    "# 3) tf-idf\n",
    "# 4) word embedding\n",
    "\n",
    "\n",
    "\n",
    "# one hot encoding \n",
    "\n",
    "\n",
    "\n",
    "# binary vector to show whether a word appears in a documents\n",
    "\n",
    "# if present 1\n",
    "# else 0\n",
    "\n",
    "\n",
    "\n",
    "\n"
   ]
  },
  {
   "cell_type": "code",
   "execution_count": 17,
   "id": "6c08ff30",
   "metadata": {},
   "outputs": [],
   "source": [
    "##one hot encoding "
   ]
  },
  {
   "cell_type": "code",
   "execution_count": 20,
   "id": "1f66afe5",
   "metadata": {},
   "outputs": [
    {
     "name": "stdout",
     "output_type": "stream",
     "text": [
      "['accolade' 'achieve' 'ai' 'already' 'also' 'arjuna' 'award' 'batsman'\n",
      " 'bear' 'become' 'benefit' 'bengaluru' 'bowler' 'business' 'captain'\n",
      " 'capture' 'card' 'century' 'challenge' 'challenger' 'champion' 'compare'\n",
      " 'consecutive' 'content' 'cost' 'council' 'creation' 'cricket' 'cricketer'\n",
      " 'cup' 'currently' 'decade' 'decrease' 'delhi' 'deploy' 'domestic'\n",
      " 'emerge' 'explore' 'feature' 'first' 'format' 'former' 'four' 'game'\n",
      " 'garfield' 'geforce' 'gen' 'give' 'graphics' 'great' 'gtx' 'high' 'hindi'\n",
      " 'hold' 'honour' 'icc' 'india' 'indian' 'insight' 'international' 'ipl'\n",
      " 'jump' 'key' 'khel' 'kind' 'kohli' 'lead' 'level' 'list' 'mace' 'make'\n",
      " 'male' 'many' 'material' 'member' 'mitigate' 'name' 'national' 'notably'\n",
      " 'november' 'number' 'nvidia' 'occasion' 'occasional' 'odi' 'one'\n",
      " 'organization' 'padma' 'performance' 'performer' 'player' 'practice'\n",
      " 'present' 'pronunciation' 'provide' 'rank' 'ranking' 'ratna' 'receive'\n",
      " 'record' 'regard' 'reporting' 'represent' 'respectively' 'revenue' 'risk'\n",
      " 'royal' 'rtx' 'run' 'score' 'scoring' 'second' 'see' 'series' 'shri'\n",
      " 'sir' 'sober' 'sporting' 'spot' 'stand' 'stream' 'summit' 'survey' 'team'\n",
      " 'technology' 'test' 'third' 'three' 'time' 'top' 'trophy' 'two' 'unit'\n",
      " 'use' 'value' 'virat' 'well' 'widely' 'win' 'wisden' 'world' 'year'\n",
      " 'ʋɪˈɾɑːʈ' 'ˈkoːɦli']\n",
      "[[0 0 0 0 1 0 0 2 1 0 0 1 1 0 2 0 0 2 0 1 1 0 1 0 0 0 0 5 1 1 1 0 0 1 0 1\n",
      "  0 0 0 0 0 1 0 0 0 0 0 0 0 1 0 1 1 2 0 2 1 3 0 3 2 0 1 0 0 3 0 0 1 1 0 0\n",
      "  0 0 1 0 0 1 0 1 0 0 0 1 2 1 0 0 0 0 0 0 0 1 0 1 0 0 0 2 1 0 1 0 0 0 1 0\n",
      "  0 1 1 1 0 0 0 0 0 0 0 2 0 0 0 2 0 1 1 1 2 0 1 0 0 0 0 1 0 1 1 0 1 0 1 1]\n",
      " [0 1 0 0 0 0 0 2 0 0 0 0 0 0 0 0 0 0 0 0 0 0 0 0 0 1 0 1 2 0 0 2 0 0 0 0\n",
      "  0 0 0 1 1 0 0 1 0 0 0 0 0 0 0 0 0 1 0 1 0 1 0 1 0 0 0 0 0 1 0 0 0 0 1 1\n",
      "  0 0 0 0 1 0 0 0 2 0 0 0 1 2 0 0 0 0 1 0 0 0 0 2 2 0 0 0 0 0 0 0 0 0 0 0\n",
      "  1 1 0 0 0 0 0 0 0 0 1 0 0 1 0 0 0 1 0 1 0 1 0 0 0 0 0 0 0 0 0 0 0 0 0 0]\n",
      " [1 0 0 0 2 1 4 0 0 1 0 0 0 0 0 0 0 0 0 0 0 0 1 0 0 0 0 1 2 0 0 0 0 0 0 0\n",
      "  0 0 0 1 0 0 1 0 1 0 0 1 0 0 0 1 0 0 2 3 1 0 0 0 0 0 0 1 0 1 1 1 0 0 0 0\n",
      "  1 0 0 0 1 1 0 0 0 0 1 0 2 0 0 1 1 0 3 0 0 0 0 0 0 1 1 0 0 0 0 1 0 0 0 0\n",
      "  0 0 0 0 0 0 1 1 1 1 0 0 0 0 0 0 0 1 0 1 1 0 1 1 0 0 0 0 0 0 1 1 1 5 0 0]\n",
      " [0 0 1 1 1 0 0 0 0 0 1 0 0 1 0 1 0 0 1 0 0 0 0 0 1 0 0 0 0 0 0 0 1 0 1 0\n",
      "  1 0 0 0 0 0 0 0 0 0 2 0 0 0 0 0 0 0 0 0 0 0 1 0 0 1 0 0 1 0 0 0 0 0 0 0\n",
      "  0 1 0 1 0 0 1 0 0 0 0 0 0 0 1 0 0 1 0 1 1 0 1 0 0 0 0 0 0 1 0 0 1 1 0 0\n",
      "  0 0 0 0 1 0 0 0 0 0 0 0 0 0 1 0 1 0 0 0 0 1 0 0 1 1 1 0 1 0 0 0 0 0 0 0]\n",
      " [0 0 0 0 0 0 0 0 0 0 0 0 0 0 0 0 1 0 0 0 0 1 0 1 0 0 1 0 0 0 0 0 0 0 0 0\n",
      "  0 1 1 0 0 0 0 1 0 1 0 0 1 0 1 0 0 0 0 0 0 0 0 0 0 0 0 0 0 0 0 0 0 0 0 0\n",
      "  0 0 0 0 0 0 0 0 0 1 0 0 0 0 0 0 1 0 0 0 0 0 0 0 0 0 0 0 0 0 0 0 0 0 0 3\n",
      "  0 0 0 0 0 4 0 0 0 0 0 0 1 0 0 0 0 0 0 0 0 0 0 0 0 0 0 0 0 0 0 0 0 0 0 0]]\n"
     ]
    }
   ],
   "source": [
    "documents=[\" \".join(doc) for doc in spacy_lemmatized_docs]\n",
    "\n",
    "vectorizer_ohe=CountVectorizer(vocabulary=vocabulary)\n",
    "\n",
    "X=vectorizer_ohe.fit_transform(documents)\n",
    "\n",
    "feature_names=vectorizer_ohe.get_feature_names_out()\n",
    "\n",
    "print(feature_names)\n",
    "\n",
    "frequency_counts=X.toarray()\n",
    "print(frequency_counts)"
   ]
  },
  {
   "cell_type": "code",
   "execution_count": 21,
   "id": "08374c40",
   "metadata": {},
   "outputs": [
    {
     "data": {
      "text/html": [
       "<div>\n",
       "<style scoped>\n",
       "    .dataframe tbody tr th:only-of-type {\n",
       "        vertical-align: middle;\n",
       "    }\n",
       "\n",
       "    .dataframe tbody tr th {\n",
       "        vertical-align: top;\n",
       "    }\n",
       "\n",
       "    .dataframe thead tr th {\n",
       "        text-align: left;\n",
       "    }\n",
       "</style>\n",
       "<table border=\"1\" class=\"dataframe\">\n",
       "  <thead>\n",
       "    <tr>\n",
       "      <th></th>\n",
       "      <th>accolade</th>\n",
       "      <th>achieve</th>\n",
       "      <th>ai</th>\n",
       "      <th>already</th>\n",
       "      <th>also</th>\n",
       "      <th>arjuna</th>\n",
       "      <th>award</th>\n",
       "      <th>batsman</th>\n",
       "      <th>bear</th>\n",
       "      <th>become</th>\n",
       "      <th>...</th>\n",
       "      <th>value</th>\n",
       "      <th>virat</th>\n",
       "      <th>well</th>\n",
       "      <th>widely</th>\n",
       "      <th>win</th>\n",
       "      <th>wisden</th>\n",
       "      <th>world</th>\n",
       "      <th>year</th>\n",
       "      <th>ʋɪˈɾɑːʈ</th>\n",
       "      <th>ˈkoːɦli</th>\n",
       "    </tr>\n",
       "  </thead>\n",
       "  <tbody>\n",
       "    <tr>\n",
       "      <th>0</th>\n",
       "      <td>0</td>\n",
       "      <td>0</td>\n",
       "      <td>0</td>\n",
       "      <td>0</td>\n",
       "      <td>1</td>\n",
       "      <td>0</td>\n",
       "      <td>0</td>\n",
       "      <td>2</td>\n",
       "      <td>1</td>\n",
       "      <td>0</td>\n",
       "      <td>...</td>\n",
       "      <td>0</td>\n",
       "      <td>1</td>\n",
       "      <td>0</td>\n",
       "      <td>1</td>\n",
       "      <td>1</td>\n",
       "      <td>0</td>\n",
       "      <td>1</td>\n",
       "      <td>0</td>\n",
       "      <td>1</td>\n",
       "      <td>1</td>\n",
       "    </tr>\n",
       "    <tr>\n",
       "      <th>1</th>\n",
       "      <td>0</td>\n",
       "      <td>1</td>\n",
       "      <td>0</td>\n",
       "      <td>0</td>\n",
       "      <td>0</td>\n",
       "      <td>0</td>\n",
       "      <td>0</td>\n",
       "      <td>2</td>\n",
       "      <td>0</td>\n",
       "      <td>0</td>\n",
       "      <td>...</td>\n",
       "      <td>0</td>\n",
       "      <td>0</td>\n",
       "      <td>0</td>\n",
       "      <td>0</td>\n",
       "      <td>0</td>\n",
       "      <td>0</td>\n",
       "      <td>0</td>\n",
       "      <td>0</td>\n",
       "      <td>0</td>\n",
       "      <td>0</td>\n",
       "    </tr>\n",
       "    <tr>\n",
       "      <th>2</th>\n",
       "      <td>1</td>\n",
       "      <td>0</td>\n",
       "      <td>0</td>\n",
       "      <td>0</td>\n",
       "      <td>2</td>\n",
       "      <td>1</td>\n",
       "      <td>4</td>\n",
       "      <td>0</td>\n",
       "      <td>0</td>\n",
       "      <td>1</td>\n",
       "      <td>...</td>\n",
       "      <td>0</td>\n",
       "      <td>0</td>\n",
       "      <td>0</td>\n",
       "      <td>0</td>\n",
       "      <td>1</td>\n",
       "      <td>1</td>\n",
       "      <td>1</td>\n",
       "      <td>5</td>\n",
       "      <td>0</td>\n",
       "      <td>0</td>\n",
       "    </tr>\n",
       "    <tr>\n",
       "      <th>3</th>\n",
       "      <td>0</td>\n",
       "      <td>0</td>\n",
       "      <td>1</td>\n",
       "      <td>1</td>\n",
       "      <td>1</td>\n",
       "      <td>0</td>\n",
       "      <td>0</td>\n",
       "      <td>0</td>\n",
       "      <td>0</td>\n",
       "      <td>0</td>\n",
       "      <td>...</td>\n",
       "      <td>1</td>\n",
       "      <td>0</td>\n",
       "      <td>1</td>\n",
       "      <td>0</td>\n",
       "      <td>0</td>\n",
       "      <td>0</td>\n",
       "      <td>0</td>\n",
       "      <td>0</td>\n",
       "      <td>0</td>\n",
       "      <td>0</td>\n",
       "    </tr>\n",
       "    <tr>\n",
       "      <th>4</th>\n",
       "      <td>0</td>\n",
       "      <td>0</td>\n",
       "      <td>0</td>\n",
       "      <td>0</td>\n",
       "      <td>0</td>\n",
       "      <td>0</td>\n",
       "      <td>0</td>\n",
       "      <td>0</td>\n",
       "      <td>0</td>\n",
       "      <td>0</td>\n",
       "      <td>...</td>\n",
       "      <td>0</td>\n",
       "      <td>0</td>\n",
       "      <td>0</td>\n",
       "      <td>0</td>\n",
       "      <td>0</td>\n",
       "      <td>0</td>\n",
       "      <td>0</td>\n",
       "      <td>0</td>\n",
       "      <td>0</td>\n",
       "      <td>0</td>\n",
       "    </tr>\n",
       "  </tbody>\n",
       "</table>\n",
       "<p>5 rows × 144 columns</p>\n",
       "</div>"
      ],
      "text/plain": [
       "  accolade achieve ai already also arjuna award batsman bear become  ...  \\\n",
       "0        0       0  0       0    1      0     0       2    1      0  ...   \n",
       "1        0       1  0       0    0      0     0       2    0      0  ...   \n",
       "2        1       0  0       0    2      1     4       0    0      1  ...   \n",
       "3        0       0  1       1    1      0     0       0    0      0  ...   \n",
       "4        0       0  0       0    0      0     0       0    0      0  ...   \n",
       "\n",
       "  value virat well widely win wisden world year ʋɪˈɾɑːʈ ˈkoːɦli  \n",
       "0     0     1    0      1   1      0     1    0       1       1  \n",
       "1     0     0    0      0   0      0     0    0       0       0  \n",
       "2     0     0    0      0   1      1     1    5       0       0  \n",
       "3     1     0    1      0   0      0     0    0       0       0  \n",
       "4     0     0    0      0   0      0     0    0       0       0  \n",
       "\n",
       "[5 rows x 144 columns]"
      ]
     },
     "execution_count": 21,
     "metadata": {},
     "output_type": "execute_result"
    }
   ],
   "source": [
    "import pandas as pd\n",
    "pd.DataFrame(X.toarray(),columns=[feature_names])\n"
   ]
  },
  {
   "cell_type": "code",
   "execution_count": null,
   "id": "60a2471d",
   "metadata": {},
   "outputs": [],
   "source": [
    "## count vectorization\n",
    "\n",
    "# represented as matrix of token counts\n"
   ]
  },
  {
   "cell_type": "code",
   "execution_count": null,
   "id": "8181981b",
   "metadata": {},
   "outputs": [],
   "source": []
  }
 ],
 "metadata": {
  "kernelspec": {
   "display_name": "Python 3 (ipykernel)",
   "language": "python",
   "name": "python3"
  },
  "language_info": {
   "codemirror_mode": {
    "name": "ipython",
    "version": 3
   },
   "file_extension": ".py",
   "mimetype": "text/x-python",
   "name": "python",
   "nbconvert_exporter": "python",
   "pygments_lexer": "ipython3",
   "version": "3.9.13"
  }
 },
 "nbformat": 4,
 "nbformat_minor": 5
}
