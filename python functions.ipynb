{
 "cells": [
  {
   "cell_type": "code",
   "execution_count": 1,
   "id": "6f555058",
   "metadata": {},
   "outputs": [],
   "source": [
    "## map"
   ]
  },
  {
   "cell_type": "code",
   "execution_count": null,
   "id": "6a7d3717",
   "metadata": {},
   "outputs": [],
   "source": [
    "\"\"\"map functions takes another function and another sequence of iterable as parameter and gives output of the function\n",
    "   to each item in sequence\n",
    "   map(fun,iter)\n",
    "   filter(fun,iter)\n",
    "   reduce(fun,iter)"
   ]
  },
  {
   "cell_type": "code",
   "execution_count": 3,
   "id": "25904648",
   "metadata": {},
   "outputs": [],
   "source": [
    "def mul(a):\n",
    "    return a*6"
   ]
  },
  {
   "cell_type": "code",
   "execution_count": 4,
   "id": "668df61f",
   "metadata": {},
   "outputs": [],
   "source": [
    "num=[1,2,3,4,5]\n",
    "out=map(mul,num)"
   ]
  },
  {
   "cell_type": "code",
   "execution_count": 5,
   "id": "2a60bf20",
   "metadata": {},
   "outputs": [
    {
     "name": "stdout",
     "output_type": "stream",
     "text": [
      "[6, 12, 18, 24, 30]\n"
     ]
    }
   ],
   "source": [
    "print(list(out))"
   ]
  },
  {
   "cell_type": "code",
   "execution_count": 7,
   "id": "42f4340f",
   "metadata": {},
   "outputs": [],
   "source": [
    "def mul(a):\n",
    "    if a>3:\n",
    "        return a*6"
   ]
  },
  {
   "cell_type": "code",
   "execution_count": 9,
   "id": "e9515473",
   "metadata": {},
   "outputs": [
    {
     "name": "stdout",
     "output_type": "stream",
     "text": [
      "[4, 5]\n"
     ]
    }
   ],
   "source": [
    "out1=filter(mul,num)\n",
    "print(list(out1))"
   ]
  },
  {
   "cell_type": "code",
   "execution_count": 10,
   "id": "1f53be88",
   "metadata": {},
   "outputs": [
    {
     "data": {
      "text/plain": [
       "9"
      ]
     },
     "execution_count": 10,
     "metadata": {},
     "output_type": "execute_result"
    }
   ],
   "source": [
    "add=lambda a,b:a+b\n",
    "add(3,6)"
   ]
  },
  {
   "cell_type": "code",
   "execution_count": 11,
   "id": "1c7e777c",
   "metadata": {},
   "outputs": [
    {
     "ename": "SyntaxError",
     "evalue": "cannot assign to lambda (3924099364.py, line 1)",
     "output_type": "error",
     "traceback": [
      "\u001b[1;36m  File \u001b[1;32m\"C:\\Users\\raviv\\AppData\\Local\\Temp\\ipykernel_16688\\3924099364.py\"\u001b[1;36m, line \u001b[1;32m1\u001b[0m\n\u001b[1;33m    lambda a,c:a=3+b=6\u001b[0m\n\u001b[1;37m    ^\u001b[0m\n\u001b[1;31mSyntaxError\u001b[0m\u001b[1;31m:\u001b[0m cannot assign to lambda\n"
     ]
    }
   ],
   "source": []
  },
  {
   "cell_type": "code",
   "execution_count": null,
   "id": "2a00db0c",
   "metadata": {},
   "outputs": [],
   "source": []
  }
 ],
 "metadata": {
  "kernelspec": {
   "display_name": "Python 3 (ipykernel)",
   "language": "python",
   "name": "python3"
  },
  "language_info": {
   "codemirror_mode": {
    "name": "ipython",
    "version": 3
   },
   "file_extension": ".py",
   "mimetype": "text/x-python",
   "name": "python",
   "nbconvert_exporter": "python",
   "pygments_lexer": "ipython3",
   "version": "3.9.13"
  }
 },
 "nbformat": 4,
 "nbformat_minor": 5
}
