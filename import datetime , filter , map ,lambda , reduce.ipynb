{
 "cells": [
  {
   "cell_type": "code",
   "execution_count": 4,
   "id": "34b22e1f",
   "metadata": {},
   "outputs": [],
   "source": [
    "from datetime import date,datetime"
   ]
  },
  {
   "cell_type": "code",
   "execution_count": 5,
   "id": "16e284b8",
   "metadata": {},
   "outputs": [
    {
     "name": "stdout",
     "output_type": "stream",
     "text": [
      " today date is 2023-06-27  and time is 2023-06-27 10:41:13.587753\n"
     ]
    }
   ],
   "source": [
    "print(\" today date is {}  and time is {}\".format(date.today(),datetime.now()))"
   ]
  },
  {
   "cell_type": "code",
   "execution_count": 6,
   "id": "0e2ddbc7",
   "metadata": {},
   "outputs": [
    {
     "name": "stdout",
     "output_type": "stream",
     "text": [
      " today date is 2023-06-27 and time is 2023-06-27 10:42:18.056998\n"
     ]
    }
   ],
   "source": [
    "print(f' today date is {date.today()} and time is {datetime.now()}')"
   ]
  },
  {
   "cell_type": "code",
   "execution_count": 29,
   "id": "426f5c1e",
   "metadata": {},
   "outputs": [
    {
     "name": "stdout",
     "output_type": "stream",
     "text": [
      "(0, 'a')\n",
      "(1, 'b')\n",
      "(2, 'c')\n"
     ]
    }
   ],
   "source": [
    "l=['a','b','c']\n",
    "for i in dict(enumerate(l)).items():\n",
    "    print(i)"
   ]
  },
  {
   "cell_type": "code",
   "execution_count": 28,
   "id": "23885a24",
   "metadata": {},
   "outputs": [
    {
     "data": {
      "text/plain": [
       "{0: 'b', 1: 'a', 2: 'c'}"
      ]
     },
     "execution_count": 28,
     "metadata": {},
     "output_type": "execute_result"
    }
   ],
   "source": [
    "i=dict(enumerate(set(l)))\n",
    "i"
   ]
  },
  {
   "cell_type": "code",
   "execution_count": 32,
   "id": "c42cab54",
   "metadata": {},
   "outputs": [
    {
     "data": {
      "text/plain": [
       "'First we will take bunch of best of hit smiles from previous workflows and give it to moflow and megamolbart model in the bioneme platform and try to generate billions of smlies from it . through screeing take the best smiles and again send these molecules to the moflow and megamolbart model and repeat these process. after collecting best hit smiles compare these smiles with all the hit generation flows we have random gen,sbg ,editbased ,pharamacophore ,transvae etc . and observe where the generated molecules have diversity and are generating from different space or not .'"
      ]
     },
     "execution_count": 32,
     "metadata": {},
     "output_type": "execute_result"
    }
   ],
   "source": [
    "string=\"FIRST WE WILL TAKE BUNCH OF BEST OF HIT SMILES FROM PREVIOUS WORKFLOWS AND GIVE IT TO MOFLOW AND MEGAMOLBART MODEL IN THE BIONEME PLATFORM AND TRY TO GENERATE BILLIONS OF SMLIES FROM IT . THROUGH SCREEING TAKE THE BEST SMILES AND AGAIN SEND THESE MOLECULES TO THE MOFLOW AND MEGAMOLBART MODEL AND REPEAT THESE PROCESS. AFTER COLLECTING BEST HIT SMILES COMPARE THESE SMILES WITH ALL THE HIT GENERATION FLOWS WE HAVE RANDOM GEN,SBG ,EDITBASED ,PHARAMACOPHORE ,TRANSVAE ETC . AND OBSERVE WHERE THE GENERATED MOLECULES HAVE DIVERSITY AND ARE GENERATING FROM DIFFERENT SPACE OR NOT .\"\n",
    "string.capitalize()"
   ]
  },
  {
   "cell_type": "markdown",
   "id": "7fb8949a",
   "metadata": {},
   "source": [
    "## lambda in python"
   ]
  },
  {
   "cell_type": "code",
   "execution_count": 33,
   "id": "3d157801",
   "metadata": {},
   "outputs": [
    {
     "data": {
      "text/plain": [
       "9"
      ]
     },
     "execution_count": 33,
     "metadata": {},
     "output_type": "execute_result"
    }
   ],
   "source": [
    "add=lambda a,b : a+b \n",
    "add(3,6)"
   ]
  },
  {
   "cell_type": "markdown",
   "id": "eb7f1fcc",
   "metadata": {},
   "source": [
    "## filter in python "
   ]
  },
  {
   "cell_type": "markdown",
   "id": "f1c5aa5f",
   "metadata": {},
   "source": [
    "##### Filter returns an iterable generator. Generator is a very important concept in Python!"
   ]
  },
  {
   "cell_type": "code",
   "execution_count": 45,
   "id": "41b1b906",
   "metadata": {},
   "outputs": [
    {
     "name": "stdout",
     "output_type": "stream",
     "text": [
      "24\n",
      "33\n",
      "42\n"
     ]
    }
   ],
   "source": [
    "l=[13,24,33,42,5]\n",
    "for i in filter(lambda x:x>18,l):\n",
    "  print(i)\n"
   ]
  },
  {
   "cell_type": "code",
   "execution_count": 46,
   "id": "e62591e5",
   "metadata": {},
   "outputs": [
    {
     "data": {
      "text/plain": [
       "[24, 33, 42]"
      ]
     },
     "execution_count": 46,
     "metadata": {},
     "output_type": "execute_result"
    }
   ],
   "source": [
    "list(filter(lambda x:x>18,l))"
   ]
  },
  {
   "cell_type": "markdown",
   "id": "4846b6db",
   "metadata": {},
   "source": [
    "## MAP IN PYTHON "
   ]
  },
  {
   "cell_type": "code",
   "execution_count": 50,
   "id": "24646f94",
   "metadata": {},
   "outputs": [
    {
     "data": {
      "text/plain": [
       "[78, 144, 198, 252, 30]"
      ]
     },
     "execution_count": 50,
     "metadata": {},
     "output_type": "execute_result"
    }
   ],
   "source": [
    "def mul(a):\n",
    "    return a*6\n",
    "result=map(mul,l)\n",
    "list(result)"
   ]
  },
  {
   "cell_type": "markdown",
   "id": "e798f0db",
   "metadata": {},
   "source": [
    "## reduce in python"
   ]
  },
  {
   "cell_type": "code",
   "execution_count": 59,
   "id": "628079f8",
   "metadata": {},
   "outputs": [
    {
     "name": "stdout",
     "output_type": "stream",
     "text": [
      "117\n"
     ]
    }
   ],
   "source": [
    "from functools import reduce\n",
    "result=reduce(lambda x,y:x+y ,l)\n",
    "print(result)"
   ]
  },
  {
   "cell_type": "code",
   "execution_count": null,
   "id": "e4142199",
   "metadata": {},
   "outputs": [],
   "source": []
  }
 ],
 "metadata": {
  "kernelspec": {
   "display_name": "Python 3 (ipykernel)",
   "language": "python",
   "name": "python3"
  },
  "language_info": {
   "codemirror_mode": {
    "name": "ipython",
    "version": 3
   },
   "file_extension": ".py",
   "mimetype": "text/x-python",
   "name": "python",
   "nbconvert_exporter": "python",
   "pygments_lexer": "ipython3",
   "version": "3.9.13"
  }
 },
 "nbformat": 4,
 "nbformat_minor": 5
}
