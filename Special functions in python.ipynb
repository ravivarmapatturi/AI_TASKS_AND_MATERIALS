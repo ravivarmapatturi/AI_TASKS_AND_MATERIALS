{
 "cells": [
  {
   "cell_type": "markdown",
   "id": "00b8250b",
   "metadata": {},
   "source": [
    "## enumerate in python\n",
    "###### while we are dealing with the iterators sometimes we need to track the count of the iteratiors for that we will use the enumerate function in python"
   ]
  },
  {
   "cell_type": "code",
   "execution_count": 3,
   "id": "6e8afabc",
   "metadata": {},
   "outputs": [
    {
     "name": "stdout",
     "output_type": "stream",
     "text": [
      "count of fruit 0 fruit name orange\n",
      "count of fruit 1 fruit name mango\n",
      "count of fruit 2 fruit name apple\n",
      "count of fruit 3 fruit name banana\n"
     ]
    }
   ],
   "source": [
    "l=[\"orange\",\"mango\",\"apple\",\"banana\"]\n",
    "for i,fruit in enumerate(l):\n",
    "    print(f\"count of fruit {i} fruit name {fruit}\")"
   ]
  },
  {
   "cell_type": "code",
   "execution_count": 15,
   "id": "5a0d1e52",
   "metadata": {},
   "outputs": [
    {
     "name": "stdout",
     "output_type": "stream",
     "text": [
      "1 3\n"
     ]
    }
   ],
   "source": [
    "# s=input()\n",
    "i,c=input().split()"
   ]
  },
  {
   "cell_type": "code",
   "execution_count": null,
   "id": "c694551c",
   "metadata": {},
   "outputs": [],
   "source": []
  },
  {
   "cell_type": "code",
   "execution_count": null,
   "id": "1f9fd91c",
   "metadata": {},
   "outputs": [],
   "source": []
  }
 ],
 "metadata": {
  "kernelspec": {
   "display_name": "Python 3 (ipykernel)",
   "language": "python",
   "name": "python3"
  },
  "language_info": {
   "codemirror_mode": {
    "name": "ipython",
    "version": 3
   },
   "file_extension": ".py",
   "mimetype": "text/x-python",
   "name": "python",
   "nbconvert_exporter": "python",
   "pygments_lexer": "ipython3",
   "version": "3.9.13"
  }
 },
 "nbformat": 4,
 "nbformat_minor": 5
}
