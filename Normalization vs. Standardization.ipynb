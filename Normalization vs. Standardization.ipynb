{
 "cells": [
  {
   "cell_type": "code",
   "execution_count": 1,
   "id": "18fc685b",
   "metadata": {},
   "outputs": [
    {
     "name": "stdout",
     "output_type": "stream",
     "text": [
      "Normalized Data:\n",
      "[[0.         0.5       ]\n",
      " [0.09090909 1.        ]\n",
      " [1.         0.        ]]\n",
      "\n",
      "Standardized Data:\n",
      "[[-0.80538727  0.        ]\n",
      " [-0.60404045  1.22474487]\n",
      " [ 1.40942772 -1.22474487]]\n"
     ]
    }
   ],
   "source": [
    "import numpy as np\n",
    "from sklearn.preprocessing import MinMaxScaler, StandardScaler\n",
    "\n",
    "# Example data-\n",
    "data = np.array([\n",
    "    [350, 0.0002],\n",
    "    [450, 0.0003],\n",
    "    [1450, 0.0001]\n",
    "])\n",
    "\n",
    "# Normalization\n",
    "normalizer = MinMaxScaler()\n",
    "normalized_data = normalizer.fit_transform(data)\n",
    "print(\"Normalized Data:\")\n",
    "print(normalized_data)\n",
    "\n",
    "# Standardization\n",
    "scaler = StandardScaler()\n",
    "standardized_data = scaler.fit_transform(data)\n",
    "print(\"\\nStandardized Data:\")\n",
    "print(standardized_data)\n"
   ]
  },
  {
   "cell_type": "code",
   "execution_count": 2,
   "id": "2897cc80",
   "metadata": {},
   "outputs": [
    {
     "name": "stdout",
     "output_type": "stream",
     "text": [
      "Normalized Data:\n",
      "[[0.         0.5       ]\n",
      " [0.09090909 1.        ]\n",
      " [1.         0.        ]]\n",
      "\n",
      "Standardized Data:\n",
      "[[-0.80538727  0.        ]\n",
      " [-0.60404045  1.22474487]\n",
      " [ 1.40942772 -1.22474487]]\n"
     ]
    }
   ],
   "source": [
    "\n",
    "# Normalization\n",
    "def normalize(data):\n",
    "    min_vals = np.min(data, axis=0)\n",
    "    max_vals = np.max(data, axis=0)\n",
    "    normalized_data = (data - min_vals) / (max_vals - min_vals)\n",
    "    return normalized_data\n",
    "\n",
    "normalized_data = normalize(data)\n",
    "print(\"Normalized Data:\")\n",
    "print(normalized_data)\n",
    "\n",
    "# Standardization\n",
    "def standardize(data):\n",
    "    means = np.mean(data, axis=0)\n",
    "    std_devs = np.std(data, axis=0)\n",
    "    standardized_data = (data - means) / std_devs\n",
    "    return standardized_data\n",
    "\n",
    "standardized_data = standardize(data)\n",
    "print(\"\\nStandardized Data:\")\n",
    "print(standardized_data)\n"
   ]
  },
  {
   "cell_type": "code",
   "execution_count": null,
   "id": "9a20dcfe",
   "metadata": {},
   "outputs": [],
   "source": []
  }
 ],
 "metadata": {
  "kernelspec": {
   "display_name": "Python 3 (ipykernel)",
   "language": "python",
   "name": "python3"
  },
  "language_info": {
   "codemirror_mode": {
    "name": "ipython",
    "version": 3
   },
   "file_extension": ".py",
   "mimetype": "text/x-python",
   "name": "python",
   "nbconvert_exporter": "python",
   "pygments_lexer": "ipython3",
   "version": "3.9.13"
  }
 },
 "nbformat": 4,
 "nbformat_minor": 5
}
